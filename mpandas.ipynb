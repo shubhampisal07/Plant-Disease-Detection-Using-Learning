{
  "nbformat": 4,
  "nbformat_minor": 0,
  "metadata": {
    "colab": {
      "provenance": []
    },
    "kernelspec": {
      "name": "python3",
      "display_name": "Python 3"
    },
    "language_info": {
      "name": "python"
    }
  },
  "cells": [
    {
      "cell_type": "code",
      "execution_count": 2,
      "metadata": {
        "colab": {
          "base_uri": "https://localhost:8080/"
        },
        "id": "UrHIMKJbpEsc",
        "outputId": "70c8045c-cd8c-4ef1-8834-b71150990f3e"
      },
      "outputs": [
        {
          "output_type": "stream",
          "name": "stdout",
          "text": [
            "Mean: 22.53846153846154\n",
            "Mode: 9.0\n",
            "Median: 13.0\n"
          ]
        }
      ],
      "source": [
        "import pandas as pd\n",
        "\n",
        "# Read the CSV file using pandas\n",
        "df = pd.read_csv('/content/Book2.csv')  # Replace 'your_file.csv' with the actual file path\n",
        "\n",
        "# Select the desired column (if needed)\n",
        "column_name = 'Maths'  # Replace with the actual column name if applicable\n",
        "data = df[column_name]\n",
        "\n",
        "# Calculate the mean\n",
        "mean = data.mean()\n",
        "\n",
        "# Calculate the mode (most frequent value)\n",
        "mode = data.mode()[0]  # Access the first mode if multiple exist\n",
        "\n",
        "# Calculate the median\n",
        "median = data.median()\n",
        "\n",
        "# Print the results\n",
        "print(\"Mean:\", mean)\n",
        "print(\"Mode:\", mode)\n",
        "print(\"Median:\", median)\n"
      ]
    }
  ]
}